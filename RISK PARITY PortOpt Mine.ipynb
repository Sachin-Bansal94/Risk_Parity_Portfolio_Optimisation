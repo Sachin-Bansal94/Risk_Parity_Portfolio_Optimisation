{
 "cells": [
  {
   "cell_type": "markdown",
   "metadata": {},
   "source": []
  },
  {
   "cell_type": "code",
   "execution_count": 175,
   "metadata": {},
   "outputs": [],
   "source": [
    "import pandas as pd\n",
    "import numpy as np\n",
    "import yfinance as yf\n",
    "from scipy.optimize import minimize"
   ]
  },
  {
   "cell_type": "code",
   "execution_count": 176,
   "metadata": {},
   "outputs": [
    {
     "name": "stderr",
     "output_type": "stream",
     "text": [
      "C:\\Users\\ASUS\\AppData\\Roaming\\Python\\Python312\\site-packages\\yfinance\\utils.py:775: FutureWarning: The 'unit' keyword in TimedeltaIndex construction is deprecated and will be removed in a future version. Use pd.to_timedelta instead.\n",
      "  df.index += _pd.TimedeltaIndex(dst_error_hours, 'h')\n",
      "[                       0%%                      ]C:\\Users\\ASUS\\AppData\\Roaming\\Python\\Python312\\site-packages\\yfinance\\utils.py:775: FutureWarning: The 'unit' keyword in TimedeltaIndex construction is deprecated and will be removed in a future version. Use pd.to_timedelta instead.\n",
      "  df.index += _pd.TimedeltaIndex(dst_error_hours, 'h')\n",
      "[****************      33%%                      ]  2 of 6 completedC:\\Users\\ASUS\\AppData\\Roaming\\Python\\Python312\\site-packages\\yfinance\\utils.py:775: FutureWarning: The 'unit' keyword in TimedeltaIndex construction is deprecated and will be removed in a future version. Use pd.to_timedelta instead.\n",
      "  df.index += _pd.TimedeltaIndex(dst_error_hours, 'h')\n",
      "[**********************50%%                      ]  3 of 6 completedC:\\Users\\ASUS\\AppData\\Roaming\\Python\\Python312\\site-packages\\yfinance\\utils.py:775: FutureWarning: The 'unit' keyword in TimedeltaIndex construction is deprecated and will be removed in a future version. Use pd.to_timedelta instead.\n",
      "  df.index += _pd.TimedeltaIndex(dst_error_hours, 'h')\n",
      "[**********************67%%******                ]  4 of 6 completedC:\\Users\\ASUS\\AppData\\Roaming\\Python\\Python312\\site-packages\\yfinance\\utils.py:775: FutureWarning: The 'unit' keyword in TimedeltaIndex construction is deprecated and will be removed in a future version. Use pd.to_timedelta instead.\n",
      "  df.index += _pd.TimedeltaIndex(dst_error_hours, 'h')\n",
      "[**********************67%%******                ]  4 of 6 completedC:\\Users\\ASUS\\AppData\\Roaming\\Python\\Python312\\site-packages\\yfinance\\utils.py:775: FutureWarning: The 'unit' keyword in TimedeltaIndex construction is deprecated and will be removed in a future version. Use pd.to_timedelta instead.\n",
      "  df.index += _pd.TimedeltaIndex(dst_error_hours, 'h')\n",
      "[*********************100%%**********************]  6 of 6 completed"
     ]
    },
    {
     "name": "stdout",
     "output_type": "stream",
     "text": [
      "Ticker\n",
      "ADANIGREEN.NS    0.031007\n",
      "BHEL.NS          0.036309\n",
      "HINDUNILVR.NS    0.013186\n",
      "ICICIBANK.NS     0.015036\n",
      "INFY.NS          0.012455\n",
      "TCS.NS           0.011891\n",
      "dtype: float64\n",
      "Ticker\n",
      "ADANIGREEN.NS   -0.000107\n",
      "BHEL.NS          0.004182\n",
      "HINDUNILVR.NS    0.000827\n",
      "ICICIBANK.NS     0.002007\n",
      "INFY.NS         -0.000058\n",
      "TCS.NS          -0.000081\n",
      "dtype: float64\n",
      "Ticker         ADANIGREEN.NS   BHEL.NS  HINDUNILVR.NS  ICICIBANK.NS   INFY.NS  \\\n",
      "Ticker                                                                          \n",
      "ADANIGREEN.NS       0.000961  0.000678      -0.000028      0.000255  0.000076   \n",
      "BHEL.NS             0.000678  0.001318      -0.000126      0.000211  0.000025   \n",
      "HINDUNILVR.NS      -0.000028 -0.000126       0.000174     -0.000018  0.000030   \n",
      "ICICIBANK.NS        0.000255  0.000211      -0.000018      0.000226  0.000041   \n",
      "INFY.NS             0.000076  0.000025       0.000030      0.000041  0.000155   \n",
      "TCS.NS              0.000041 -0.000005       0.000031      0.000025  0.000102   \n",
      "\n",
      "Ticker           TCS.NS  \n",
      "Ticker                   \n",
      "ADANIGREEN.NS  0.000041  \n",
      "BHEL.NS       -0.000005  \n",
      "HINDUNILVR.NS  0.000031  \n",
      "ICICIBANK.NS   0.000025  \n",
      "INFY.NS        0.000102  \n",
      "TCS.NS         0.000141  \n"
     ]
    },
    {
     "name": "stderr",
     "output_type": "stream",
     "text": [
      "\n"
     ]
    }
   ],
   "source": [
    "tickers = {'TCS.NS','ICICIBANK.NS','ADANIGREEN.NS','HINDUNILVR.NS','INFY.NS','BHEL.NS'}\n",
    "data = yf.download( tickers, start = '2024-02-07', end =None)['Adj Close']\n",
    "#dat = yf.download( tickers, start = '2024-02-07', end =None)\n",
    "#print(dat)\n",
    "returns = data.pct_change().dropna()\n",
    "#print(returns)\n",
    "print(returns.std())\n",
    "print(returns.mean())\n",
    "Exp_return_general = returns.mean()\n",
    "Exp_risk_general =returns.std()\n",
    "C = returns.cov()\n",
    "print(C)"
   ]
  },
  {
   "cell_type": "code",
   "execution_count": 177,
   "metadata": {},
   "outputs": [
    {
     "name": "stdout",
     "output_type": "stream",
     "text": [
      "[0.02637421 0.02795477 0.00083795 0.00982922 0.00570955 0.00446153]\n",
      "Optimization terminated successfully    (Exit mode 0)\n",
      "            Current function value: 2.7760354799004706e-05\n",
      "            Iterations: 5\n",
      "            Function evaluations: 35\n",
      "            Gradient evaluations: 5\n",
      "optimal weigts : [0.0631286  0.03729666 0.2177189  0.22382861 0.22956628 0.22846095]\n",
      "Objectve function value at optimal weights:  2.7760354799004706e-05\n",
      "Success: True\n",
      "Messages: Optimization terminated successfully\n",
      "0.001128296909367997\n"
     ]
    }
   ],
   "source": [
    "w = np.ones(6)/6\n",
    "C = np.array(C)\n",
    "\n",
    "A = C @ w\n",
    "MRC = A / np.sqrt(w.T @ C @ w)\n",
    "print(MRC) \n",
    "def obv_function(w,C):\n",
    "    value = 0.0\n",
    "    for i in range(len(w)):\n",
    "        for j in range(len(w)):\n",
    "            value += ( w[i]*MRC[i] - w[j]*MRC[j])**2\n",
    "    return value\n",
    "def objective(w):\n",
    "    return obv_function(w,C)\n",
    "\n",
    "\n",
    "\n",
    "Constraints = (\n",
    "    { 'type' : 'eq' , 'fun': lambda w: np.sum(w) -1},\n",
    "    { 'type' : 'ineq', 'fun' : lambda w: w}\n",
    ")      \n",
    "bounds= [(0,1) for i in range(C.shape[1])]\n",
    "\n",
    "answer = minimize(objective, w, method = 'SLSQP',constraints = Constraints, bounds = bounds, options={'disp': True} )\n",
    "Optimal_weights = answer.x\n",
    "print(\"optimal weigts :\" ,Optimal_weights)\n",
    "print(\"Objectve function value at optimal weights: \", answer.fun)\n",
    "print(\"Success:\" ,answer.success)\n",
    "print(\"Messages:\" ,answer.message)\n",
    "\n",
    "\n",
    "print(returns.mean() @ w.T)"
   ]
  },
  {
   "cell_type": "code",
   "execution_count": 187,
   "metadata": {},
   "outputs": [
    {
     "name": "stdout",
     "output_type": "stream",
     "text": [
      "Optimization terminated successfully    (Exit mode 0)\n",
      "            Current function value: 0.043831065340953455\n",
      "            Iterations: 14\n",
      "            Function evaluations: 99\n",
      "            Gradient evaluations: 14\n",
      "optimal weights are [0.37971743 0.41629834 1.         0.86705349 0.98741516 1.        ]\n",
      "optimal value of function at optimal weights 0.043831065340953455\n",
      "Optimization terminated successfully\n",
      "True\n"
     ]
    }
   ],
   "source": [
    "w = np.ones(6)/6\n",
    "C= np.array(C)\n",
    "def obj_function(w,C):\n",
    "    return np.sqrt(w.T @ C @ w)\n",
    "def objective(w):\n",
    "    return obj_function(w,C)\n",
    "\n",
    "constraints = (\n",
    "    { 'type' : 'ineq', 'fun' : lambda w : np.sum(np.log(w)) + 2},\n",
    "    { 'type' : 'ineq' , 'fun' : lambda w  : w}\n",
    ")\n",
    "bounds = [(0,1) for i in range(C.shape[1])]\n",
    "\n",
    "results = minimize(objective, w,  method = 'SLSQP', constraints = constraints, bounds = bounds, options = { 'disp' : True})\n",
    "Op = results.x\n",
    "print(\"optimal weights are\" ,Op)\n",
    "function_value = results.fun\n",
    "print(\"optimal value of function at optimal weights\" , function_value)\n",
    "print(results.message)\n",
    "print(results.success)\n"
   ]
  },
  {
   "cell_type": "code",
   "execution_count": 190,
   "metadata": {},
   "outputs": [
    {
     "name": "stdout",
     "output_type": "stream",
     "text": [
      "4.650484428026193\n",
      "4.650484428026193\n",
      "[0.08165116 0.0895172  0.21503136 0.18644369 0.21232523 0.21503136]\n"
     ]
    }
   ],
   "source": [
    "total =0\n",
    "for i in range(0, len(Op)):\n",
    "    total = total + Op[i]\n",
    "print(total)\n",
    "print(np.sum(Op))\n",
    "New_weights = Op/total\n",
    "print(New_weights)"
   ]
  },
  {
   "cell_type": "code",
   "execution_count": 193,
   "metadata": {},
   "outputs": [
    {
     "name": "stdout",
     "output_type": "stream",
     "text": [
      "0.0008878823046197032\n"
     ]
    }
   ],
   "source": [
    "print(returns.mean() @ New_weights.T)\n",
    "\n",
    "Exp_returns_method2 = returns.mean() @ New_weights.T\n",
    "Exp_risk_method2 = New_weights.T @ C @ New_weights"
   ]
  },
  {
   "cell_type": "code",
   "execution_count": 199,
   "metadata": {},
   "outputs": [
    {
     "name": "stdout",
     "output_type": "stream",
     "text": [
      "8.883163674442668e-05\n",
      "0.0008878823046197032\n"
     ]
    }
   ],
   "source": [
    "print(New_weights.T @ C @ New_weights)\n",
    "print(Exp_returns_method2)"
   ]
  },
  {
   "cell_type": "code",
   "execution_count": 194,
   "metadata": {},
   "outputs": [
    {
     "name": "stdout",
     "output_type": "stream",
     "text": [
      "[0.36390977 0.21754386 0.06967419 0.14987469 0.17142857 0.02756892]\n"
     ]
    }
   ],
   "source": [
    "tickers = {'TCS.NS','ICICIBANK.NS','ADANIGREEN.NS','HINDUNILVR.NS','INFY.NS','BHEL.NS'}\n",
    "Market_cap = [14.52e12, 8.68e12, 2.78e12, 5.98e12,6.84e12,1.10e12]\n",
    "total_market_cap = np.sum(Market_cap) \n",
    "Weighted_market_cap = Market_cap/total_market_cap\n",
    "print(Weighted_market_cap)\n",
    "W = Weighted_market_cap"
   ]
  },
  {
   "cell_type": "code",
   "execution_count": 195,
   "metadata": {},
   "outputs": [
    {
     "name": "stdout",
     "output_type": "stream",
     "text": [
      "0.001216953828235251\n"
     ]
    }
   ],
   "source": [
    "Exp_return_market = returns.mean().T @ W\n",
    "print(Exp_return_market)"
   ]
  },
  {
   "cell_type": "code",
   "execution_count": 196,
   "metadata": {},
   "outputs": [
    {
     "name": "stdout",
     "output_type": "stream",
     "text": [
      "0.0003597469280150585\n"
     ]
    }
   ],
   "source": [
    "Exp_risk_market = W.T @ C @ W\n",
    "print(Exp_risk_market)"
   ]
  },
  {
   "cell_type": "code",
   "execution_count": 197,
   "metadata": {},
   "outputs": [
    {
     "name": "stdout",
     "output_type": "stream",
     "text": [
      "1.436993030316056\n"
     ]
    }
   ],
   "source": [
    "Risk_free_rate = 0.0007\n",
    "sharpe_market_cap = (Exp_return_market - Risk_free_rate) / Exp_risk_market\n",
    "print(sharpe_market_cap)"
   ]
  },
  {
   "cell_type": "code",
   "execution_count": 198,
   "metadata": {},
   "outputs": [
    {
     "name": "stdout",
     "output_type": "stream",
     "text": [
      "2.115038194784708\n"
     ]
    }
   ],
   "source": [
    "Sharpe_method2 =(Exp_returns_method2 - Risk_free_rate) / Exp_risk_method2\n",
    "print(Sharpe_method2)"
   ]
  },
  {
   "cell_type": "code",
   "execution_count": null,
   "metadata": {},
   "outputs": [],
   "source": []
  }
 ],
 "metadata": {
  "kernelspec": {
   "display_name": "Python 3",
   "language": "python",
   "name": "python3"
  },
  "language_info": {
   "codemirror_mode": {
    "name": "ipython",
    "version": 3
   },
   "file_extension": ".py",
   "mimetype": "text/x-python",
   "name": "python",
   "nbconvert_exporter": "python",
   "pygments_lexer": "ipython3",
   "version": "3.12.2"
  }
 },
 "nbformat": 4,
 "nbformat_minor": 2
}
